{
 "cells": [
  {
   "cell_type": "code",
   "execution_count": 1,
   "id": "ef8c8097",
   "metadata": {},
   "outputs": [
    {
     "name": "stdout",
     "output_type": "stream",
     "text": [
      "<class '__main__.Thing'>\n",
      "<class '__main__.example'>\n"
     ]
    }
   ],
   "source": [
    "class Thing(): # the class is thing \n",
    "    pass # A empty code \n",
    "print(Thing) # creates two individual objects from the Thing  class\n",
    "class example(): # Another class which is example \n",
    "    pass # an empy code \n",
    "print(example)  # creates two individual objects from the Thing  class\n",
    "    \n",
    "\n",
    "    "
   ]
  },
  {
   "cell_type": "code",
   "execution_count": 3,
   "id": "f4f1b685",
   "metadata": {},
   "outputs": [
    {
     "name": "stdout",
     "output_type": "stream",
     "text": [
      "name=Hydrogen, symbol=H, number=1\n"
     ]
    }
   ],
   "source": [
    "class Element():\n",
    "    def __init__(self, name, number, symbol): # Turns the Class Element into a Parent super class \n",
    "        self.name = name # the first object \n",
    "        self.number = number # the second object \n",
    "        self.symbol = symbol # the third object \n",
    "    def __str__(self):\n",
    "        return \"name={}, symbol={}, number={}\".format(self.name, self.number, self.symbol) # returns the object names\n",
    "element = Element('Hydrogen', 'H', 1) # declares the object \n",
    "print(element) # prints the object\n",
    "    "
   ]
  },
  {
   "cell_type": "code",
   "execution_count": 4,
   "id": "17e6618f",
   "metadata": {},
   "outputs": [
    {
     "name": "stdout",
     "output_type": "stream",
     "text": [
      "name=hydrogen, symbol=1, number=H\n"
     ]
    }
   ],
   "source": [
    "d = {\n",
    "    \"name\": \"hydrogen\",\n",
    "    \"symbol\": \"H\",\n",
    "    \"number\": 1,\n",
    "} # the dictionary \n",
    "    \n",
    "    \n",
    "hydrogen = Element(**d) # the object \n",
    "print(hydrogen) # returns the object"
   ]
  },
  {
   "cell_type": "code",
   "execution_count": 5,
   "id": "b2ba4640",
   "metadata": {},
   "outputs": [
    {
     "name": "stdout",
     "output_type": "stream",
     "text": [
      "A Bear eats Berries\n",
      "A Rabbit eats CLovers\n",
      "A Octothorpe eats Campers\n"
     ]
    }
   ],
   "source": [
    "class Bear(): # the first class \n",
    "    def eats(self):\n",
    "        return 'A Bear eats Berries' # returns statement\n",
    "class Rabbit(): # sub class \n",
    "    def eats(self):\n",
    "        return 'A Rabbit eats CLovers' # returns statement \n",
    "class Octothorpe(): # Sub Class \n",
    "    def eats(self):\n",
    "        return 'A Octothorpe eats Campers' # returns statements \n",
    "bear = Bear()\n",
    "print(bear.eats())\n",
    "rabbit = Rabbit()  \n",
    "print(rabbit.eats())\n",
    "octothorpe = Octothorpe()\n",
    "print(octothorpe.eats())\n",
    "\n",
    "# My methods \n"
   ]
  },
  {
   "cell_type": "code",
   "execution_count": null,
   "id": "c1837bea",
   "metadata": {},
   "outputs": [],
   "source": []
  }
 ],
 "metadata": {
  "kernelspec": {
   "display_name": "Python 3 (ipykernel)",
   "language": "python",
   "name": "python3"
  },
  "language_info": {
   "codemirror_mode": {
    "name": "ipython",
    "version": 3
   },
   "file_extension": ".py",
   "mimetype": "text/x-python",
   "name": "python",
   "nbconvert_exporter": "python",
   "pygments_lexer": "ipython3",
   "version": "3.9.13"
  }
 },
 "nbformat": 4,
 "nbformat_minor": 5
}
